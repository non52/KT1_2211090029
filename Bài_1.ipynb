{
 "cells": [
  {
   "cell_type": "markdown",
   "id": "16fb81d3",
   "metadata": {},
   "source": [
    "Bài 1: Implementation mạng nơ-ron cơ bản cho bài toán nhận diện chữ cái"
   ]
  },
  {
   "cell_type": "markdown",
   "id": "11b76fea",
   "metadata": {},
   "source": [
    "Bước 1 : Tạo tập dữ liệu bằng mảng Numpy gồm các sô 0 và 1.\n",
    "\n",
    "    Tạo tập dữ liệu (dataset) bằng mảng NumPy gồm các số 0 và 1. Các mảng này đại diện cho hình ảnh pixel đơn giản của chữ cái A, B, C (kích thước 5x6)."
   ]
  },
  {
   "cell_type": "code",
   "execution_count": 15,
   "id": "fe3c9414",
   "metadata": {},
   "outputs": [],
   "source": [
    "# Creating data set\n",
    "# A\n",
    "a =[0, 0, 1, 1, 0, 0,\n",
    "0, 1, 0, 0, 1, 0,\n",
    "1, 1, 1, 1, 1, 1,\n",
    "1, 0, 0, 0, 0, 1,\n",
    "1, 0, 0, 0, 0, 1]\n",
    "# B\n",
    "b =[0, 1, 1, 1, 1, 0,\n",
    "0, 1, 0, 0, 1, 0,\n",
    "0, 1, 1, 1, 1, 0,\n",
    "0, 1, 0, 0, 1, 0,\n",
    "0, 1, 1, 1, 1, 0]\n",
    "# C\n",
    "c =[0, 1, 1, 1, 1, 0,\n",
    "0, 1, 0, 0, 0, 0,\n",
    "0, 1, 0, 0, 0, 0,\n",
    "0, 1, 0, 0, 0, 0,\n",
    "0, 1, 1, 1, 1, 0]\n",
    "# Creating labels\n",
    "y =[[1, 0, 0],\n",
    "[0, 1, 0],\n",
    "[0, 0, 1]]"
   ]
  },
  {
   "cell_type": "markdown",
   "id": "d3d6e3f0",
   "metadata": {},
   "source": [
    "Bước 2: Hiển thị tập dữ liệu"
   ]
  },
  {
   "cell_type": "code",
   "execution_count": 16,
   "id": "674603f6",
   "metadata": {},
   "outputs": [
    {
     "data": {
      "image/png": "[encoded data removed]",
      "text/plain": [
       "<Figure size 640x480 with 1 Axes>"
      ]
     },
     "metadata": {},
     "output_type": "display_data"
    }
   ],
   "source": [
    "import numpy as np\n",
    "import matplotlib.pyplot as plt\n",
    "# visualizing the data, plotting A.\n",
    "plt.imshow(np.array(a).reshape(5, 6))\n",
    "plt.show()"
   ]
  },
  {
   "cell_type": "markdown",
   "id": "43b176df",
   "metadata": {},
   "source": [
    "Bước 3: Vì tập dữ liệu ở dạng danh sách nên chúng ta sẽ chuyển đổi nó thành mảng numpy."
   ]
  },
  {
   "cell_type": "code",
   "execution_count": 17,
   "id": "906c4b22",
   "metadata": {},
   "outputs": [
    {
     "name": "stdout",
     "output_type": "stream",
     "text": [
      "[array([[0, 0, 1, 1, 0, 0, 0, 1, 0, 0, 1, 0, 1, 1, 1, 1, 1, 1, 1, 0, 0, 0,\n",
      "        0, 1, 1, 0, 0, 0, 0, 1]]), array([[0, 1, 1, 1, 1, 0, 0, 1, 0, 0, 1, 0, 0, 1, 1, 1, 1, 0, 0, 1, 0, 0,\n",
      "        1, 0, 0, 1, 1, 1, 1, 0]]), array([[0, 1, 1, 1, 1, 0, 0, 1, 0, 0, 0, 0, 0, 1, 0, 0, 0, 0, 0, 1, 0, 0,\n",
      "        0, 0, 0, 1, 1, 1, 1, 0]])] \n",
      "\n",
      " [[1 0 0]\n",
      " [0 1 0]\n",
      " [0 0 1]]\n"
     ]
    }
   ],
   "source": [
    "# converting data and labels into numpy array\n",
    "x =[np.array(a).reshape(1, 30), np.array(b).reshape(1, 30),\n",
    "np.array(c).reshape(1, 30)]\n",
    "y = np.array(y)\n",
    "# Printing data and labels\n",
    "print(x, \"\\n\\n\", y)"
   ]
  },
  {
   "cell_type": "markdown",
   "id": "1916bacd",
   "metadata": {},
   "source": [
    "Bước 4: Xác định các hàm mạng nơ-ron."
   ]
  },
  {
   "cell_type": "code",
   "execution_count": 18,
   "id": "275b11a4",
   "metadata": {},
   "outputs": [],
   "source": [
    "# activation function\n",
    "def sigmoid(x):\n",
    "    return(1/(1 + np.exp(-x)))\n",
    "# Creating the Feed forward neural network\n",
    "def f_forward(x, w1, w2):\n",
    "# hidden\n",
    "    z1 = x.dot(w1) # input from layer 1\n",
    "    a1 = sigmoid(z1) # out put of layer 2\n",
    "    z2 = a1.dot(w2) # input of out layer\n",
    "    a2 = sigmoid(z2) # output of out layer\n",
    "    return(a2)\n",
    "# initializing the weights randomly\n",
    "def generate_wt(x, y):\n",
    "    li =[]\n",
    "    for i in range(x * y):  \n",
    "        li.append(np.random.randn())\n",
    "    return(np.array(li).reshape(x, y))\n",
    "# for loss we will be using mean square error(MSE)\n",
    "def loss(out, Y):\n",
    "    s =(np.square(out-Y))\n",
    "    s = np.sum(s)/len(y)\n",
    "    return(s)\n",
    "# Back propagation of error\n",
    "def back_prop(x, y, w1, w2, alpha):\n",
    "# hidden layer\n",
    "    z1 = x.dot(w1)\n",
    "    a1 = sigmoid(z1)\n",
    "    z2 = a1.dot(w2)\n",
    "    a2 = sigmoid(z2)\n",
    "# error in output layer\n",
    "    d2 =(a2-y)\n",
    "    d1 = np.multiply((w2.dot((d2.transpose()))).transpose(),\n",
    "    (np.multiply(a1, 1-a1)))\n",
    "# Gradient for w1 and w2\n",
    "    w1_adj = x.transpose().dot(d1)\n",
    "    w2_adj = a1.transpose().dot(d2)\n",
    "# Updating parameters\n",
    "    w1 = w1-(alpha*(w1_adj))\n",
    "    w2 = w2-(alpha*(w2_adj))\n",
    "    return(w1, w2)"
   ]
  },
  {
   "cell_type": "markdown",
   "id": "63a29347",
   "metadata": {},
   "source": [
    "Bước 5: Khởi tạo trọng số"
   ]
  },
  {
   "cell_type": "code",
   "execution_count": 19,
   "id": "b9295a1f",
   "metadata": {
    "vscode": {
     "languageId": "javascript"
    }
   },
   "outputs": [
    {
     "name": "stdout",
     "output_type": "stream",
     "text": [
      "[[-5.75689314e-01  8.92189038e-01  3.23481177e-01 -1.65534767e+00\n",
      "   6.47306694e-01]\n",
      " [-1.00997019e+00  5.13215426e-02 -2.63149646e-01 -7.74291317e-01\n",
      "  -1.26398584e+00]\n",
      " [ 8.58877143e-01  6.50782330e-01  1.67097267e+00 -9.65862646e-01\n",
      "  -6.81238347e-02]\n",
      " [ 1.19782008e-01 -7.20211292e-01 -1.20667383e+00 -2.89761316e-01\n",
      "   1.86145370e-01]\n",
      " [-9.21379183e-01  7.25222287e-02 -4.29735165e-01 -9.55814772e-01\n",
      "   2.95655758e-01]\n",
      " [ 1.11901839e+00 -4.93811498e-01  4.21094268e-01  5.33021588e-01\n",
      "  -1.87397554e+00]\n",
      " [ 2.40018588e-01 -3.05627802e-01 -2.43662032e+00  3.23796082e-01\n",
      "   2.35110628e-05]\n",
      " [-6.38611905e-01  1.22656019e+00  1.61441984e-01  7.72869818e-01\n",
      "  -5.05903453e-01]\n",
      " [-5.47533778e-01 -1.52125036e-01 -1.69585818e+00  1.34507490e+00\n",
      "   2.50095375e+00]\n",
      " [ 1.28622212e+00 -1.63330634e+00 -1.10995365e+00  8.80009359e-01\n",
      "   6.71720108e-01]\n",
      " [ 4.54802781e-01 -8.08139351e-01 -9.80255815e-01 -1.15605192e-01\n",
      "  -1.39260274e+00]\n",
      " [ 7.36851146e-01 -2.62820149e+00 -5.43310643e-01 -5.29232655e-01\n",
      "   1.33162202e+00]\n",
      " [ 4.28849631e-01  1.84248286e+00  7.39376144e-01 -1.52440280e+00\n",
      "   8.68035501e-02]\n",
      " [ 2.32771683e-01  8.11425419e-01 -7.54099716e-01  1.53845038e-01\n",
      "   4.85640340e-01]\n",
      " [ 1.54221711e+00 -1.33435958e+00 -7.12540814e-01  4.78747085e-01\n",
      "  -1.51008445e-01]\n",
      " [ 3.35843380e-01  6.49583948e-01  1.65310511e+00  7.59824267e-01\n",
      "   1.73320926e+00]\n",
      " [-3.59185734e-01  1.98790822e+00 -1.95292070e-01 -9.88851726e-01\n",
      "   1.67535285e-01]\n",
      " [ 1.40968567e+00  3.96497836e-01 -7.63879329e-01  8.76350200e-01\n",
      "   1.91638699e-01]\n",
      " [ 9.62029019e-01  2.65959681e+00 -4.77616455e-01 -2.04045993e+00\n",
      "  -7.73981386e-02]\n",
      " [ 6.17890920e-01  1.13041781e+00 -1.31256459e-01  4.83810963e-01\n",
      "   4.43877865e-01]\n",
      " [ 1.11859050e+00  1.14048687e-02 -1.24760252e-01  1.39721194e+00\n",
      "   1.88558993e+00]\n",
      " [-7.63675185e-01 -3.52702967e-01  1.03806769e-01 -1.79921036e+00\n",
      "   1.44869902e+00]\n",
      " [ 3.84659986e-02 -3.72951455e-01 -2.53281490e-01  4.10629708e-01\n",
      "   1.03465543e-01]\n",
      " [-3.41201668e-01 -9.75761864e-01 -2.47682026e-01 -2.91512309e-01\n",
      "   1.85201870e-01]\n",
      " [ 4.55078135e-01 -1.09364250e+00 -1.16036586e+00 -4.49820784e-01\n",
      "   1.21453324e-01]\n",
      " [-9.48748832e-01 -2.33367899e-01  7.33587481e-01 -2.07513993e+00\n",
      "  -1.96933283e+00]\n",
      " [-9.54375855e-01 -7.51174000e-01 -7.72977872e-01  5.14395881e-01\n",
      "  -1.09674090e+00]\n",
      " [ 8.90658832e-01  1.30584492e+00  9.70510510e-01  3.71096593e-01\n",
      "   1.76178669e-01]\n",
      " [ 1.09202983e+00  3.37558254e-01 -9.44159878e-01 -5.91462312e-01\n",
      "   8.46243792e-01]\n",
      " [ 2.51655840e-01  3.81827231e-01  4.31485295e-01  1.20899964e+00\n",
      "   5.20978881e-01]] \n",
      "\n",
      " [[ 0.18535749 -0.05524427 -1.89657231]\n",
      " [-1.00665162 -0.00246575 -1.04394411]\n",
      " [-0.42938515 -1.54189147  1.92958431]\n",
      " [-0.6676421  -0.11416602  1.0645398 ]\n",
      " [-0.28749542  0.39832448  0.69660487]]\n"
     ]
    }
   ],
   "source": [
    "w1 = generate_wt(30, 5)\n",
    "w2 = generate_wt(5, 3)\n",
    "print(w1, \"\\n\\n\", w2)"
   ]
  },
  {
   "cell_type": "markdown",
   "id": "74350c57",
   "metadata": {},
   "source": [
    "Bước 6: Huấn luyện mô hình"
   ]
  },
  {
   "cell_type": "code",
   "execution_count": 20,
   "id": "87355146",
   "metadata": {
    "vscode": {
     "languageId": "javascript"
    }
   },
   "outputs": [
    {
     "name": "stdout",
     "output_type": "stream",
     "text": [
      "epochs: 1 ======== acc: 76.28220274587724\n",
      "epochs: 2 ======== acc: 77.61154253686357\n",
      "epochs: 3 ======== acc: 78.73800079145852\n",
      "epochs: 4 ======== acc: 79.695143796168\n",
      "epochs: 5 ======== acc: 80.5286752947472\n",
      "epochs: 6 ======== acc: 81.2744234276931\n",
      "epochs: 7 ======== acc: 81.95531007386748\n",
      "epochs: 8 ======== acc: 82.58450760470956\n",
      "epochs: 9 ======== acc: 83.16939687195081\n",
      "epochs: 10 ======== acc: 83.71451775294945\n",
      "epochs: 11 ======== acc: 84.22328235510707\n",
      "epochs: 12 ======== acc: 84.69876800187716\n",
      "epochs: 13 ======== acc: 85.14397928641307\n",
      "epochs: 14 ======== acc: 85.56186644934388\n",
      "epochs: 15 ======== acc: 85.95526331362\n",
      "epochs: 16 ======== acc: 86.32681922743916\n",
      "epochs: 17 ======== acc: 86.67895063109457\n",
      "epochs: 18 ======== acc: 87.01381599578501\n",
      "epochs: 19 ======== acc: 87.33331017247895\n",
      "epochs: 20 ======== acc: 87.63907263926183\n",
      "epochs: 21 ======== acc: 87.93250476172392\n",
      "epochs: 22 ======== acc: 88.21479230381571\n",
      "epochs: 23 ======== acc: 88.48693046006566\n",
      "epochs: 24 ======== acc: 88.74974948614252\n",
      "epochs: 25 ======== acc: 89.00393960030766\n",
      "epochs: 26 ======== acc: 89.25007426652695\n",
      "epochs: 27 ======== acc: 89.488631299067\n",
      "epochs: 28 ======== acc: 89.72001148141166\n",
      "epochs: 29 ======== acc: 89.94455458877832\n",
      "epochs: 30 ======== acc: 90.16255285379755\n",
      "epochs: 31 ======== acc: 90.37426202485062\n",
      "epochs: 32 ======== acc: 90.57991024047607\n",
      "epochs: 33 ======== acc: 90.77970498573954\n",
      "epochs: 34 ======== acc: 90.97383841283455\n",
      "epochs: 35 ======== acc: 91.16249130431193\n",
      "epochs: 36 ======== acc: 91.34583593910763\n",
      "epochs: 37 ======== acc: 91.52403809433275\n",
      "epochs: 38 ======== acc: 91.6972583841092\n",
      "epochs: 39 ======== acc: 91.86565310403716\n",
      "epochs: 40 ======== acc: 92.02937471858195\n",
      "epochs: 41 ======== acc: 92.18857210027038\n",
      "epochs: 42 ======== acc: 92.3433906048618\n",
      "epochs: 43 ======== acc: 92.49397204583956\n",
      "epochs: 44 ======== acc: 92.64045461453765\n",
      "epochs: 45 ======== acc: 92.78297277863494\n",
      "epochs: 46 ======== acc: 92.92165718117835\n",
      "epochs: 47 ======== acc: 93.05663455426145\n",
      "epochs: 48 ======== acc: 93.18802765553164\n",
      "epochs: 49 ======== acc: 93.31595523140854\n",
      "epochs: 50 ======== acc: 93.44053200791012\n",
      "epochs: 51 ======== acc: 93.5618687079959\n",
      "epochs: 52 ======== acc: 93.68007209309748\n",
      "epochs: 53 ======== acc: 93.79524502581866\n",
      "epochs: 54 ======== acc: 93.90748655048972\n",
      "epochs: 55 ======== acc: 94.01689198823378\n",
      "epochs: 56 ======== acc: 94.12355304335368\n",
      "epochs: 57 ======== acc: 94.22755791810847\n",
      "epochs: 58 ======== acc: 94.328991433268\n",
      "epochs: 59 ======== acc: 94.42793515217741\n",
      "epochs: 60 ======== acc: 94.52446750640718\n",
      "epochs: 61 ======== acc: 94.6186639213907\n",
      "epochs: 62 ======== acc: 94.7105969407535\n",
      "epochs: 63 ======== acc: 94.80033634830733\n",
      "epochs: 64 ======== acc: 94.8879492869201\n",
      "epochs: 65 ======== acc: 94.97350037367657\n",
      "epochs: 66 ======== acc: 95.05705181091675\n",
      "epochs: 67 ======== acc: 95.13866349288361\n",
      "epochs: 68 ======== acc: 95.21839310782836\n",
      "epochs: 69 ======== acc: 95.2962962355166\n",
      "epochs: 70 ======== acc: 95.37242644015336\n",
      "epochs: 71 ======== acc: 95.44683535880185\n",
      "epochs: 72 ======== acc: 95.51957278541504\n",
      "epochs: 73 ======== acc: 95.59068675062925\n",
      "epochs: 74 ======== acc: 95.66022359749144\n",
      "epochs: 75 ======== acc: 95.72822805330445\n",
      "epochs: 76 ======== acc: 95.79474329778247\n",
      "epochs: 77 ======== acc: 95.85981102771133\n",
      "epochs: 78 ======== acc: 95.92347151830572\n",
      "epochs: 79 ======== acc: 95.98576368145291\n",
      "epochs: 80 ======== acc: 96.04672512102456\n",
      "epochs: 81 ======== acc: 96.10639218543167\n",
      "epochs: 82 ======== acc: 96.16480001758825\n",
      "epochs: 83 ======== acc: 96.22198260244095\n",
      "epochs: 84 ======== acc: 96.27797281221164\n",
      "epochs: 85 ======== acc: 96.33280244949144\n",
      "epochs: 86 ======== acc: 96.38650228831477\n",
      "epochs: 87 ======== acc: 96.439102113334\n",
      "epochs: 88 ======== acc: 96.49063075720609\n",
      "epochs: 89 ======== acc: 96.54111613629513\n",
      "epochs: 90 ======== acc: 96.59058528478727\n",
      "epochs: 91 ======== acc: 96.63906438730716\n",
      "epochs: 92 ======== acc: 96.68657881011906\n",
      "epochs: 93 ======== acc: 96.7331531309895\n",
      "epochs: 94 ======== acc: 96.77881116778295\n",
      "epochs: 95 ======== acc: 96.82357600585706\n",
      "epochs: 96 ======== acc: 96.8674700243192\n",
      "epochs: 97 ======== acc: 96.91051492120182\n",
      "epochs: 98 ======== acc: 96.95273173761058\n",
      "epochs: 99 ======== acc: 96.99414088089495\n",
      "epochs: 100 ======== acc: 97.03476214688884\n"
     ]
    }
   ],
   "source": [
    "def train(x, Y, w1, w2, alpha = 0.01, epoch = 10):\n",
    "    acc =[]\n",
    "    losss =[]\n",
    "    for j in range(epoch):\n",
    "        l =[]\n",
    "        for i in range(len(x)):\n",
    "            out = f_forward(x[i], w1, w2)\n",
    "            l.append((loss(out, Y[i])))\n",
    "            w1, w2 = back_prop(x[i], y[i], w1, w2, alpha)\n",
    "        print(\"epochs:\", j + 1, \"======== acc:\", (1-(sum(l)/len(x)))*100)\n",
    "        acc.append((1-(sum(l)/len(x)))*100)\n",
    "        losss.append(sum(l)/len(x))\n",
    "    return(acc, losss, w1, w2)\n",
    "acc, losss, w1, w2 = train(x, y, w1, w2, 0.1, 100)"
   ]
  },
  {
   "cell_type": "markdown",
   "id": "352ce325",
   "metadata": {},
   "source": [
    "Bước 7: Vẽ đồ thị Accuracy (đọ chính xác) và Loss (mất mát) "
   ]
  },
  {
   "cell_type": "code",
   "execution_count": 21,
   "id": "81c62540",
   "metadata": {
    "vscode": {
     "languageId": "javascript"
    }
   },
   "outputs": [
    {
     "data": {
      "image/png": "[encoded data removed]",
      "text/plain": [
       "<Figure size 640x480 with 1 Axes>"
      ]
     },
     "metadata": {},
     "output_type": "display_data"
    },
    {
     "data": {
      "image/png": "[encoded data removed]",
      "text/plain": [
       "<Figure size 640x480 with 1 Axes>"
      ]
     },
     "metadata": {},
     "output_type": "display_data"
    }
   ],
   "source": [
    "import matplotlib.pyplot as plt1\n",
    "# plotting accuracy\n",
    "plt1.plot(acc)\n",
    "plt1.ylabel('Accuracy')\n",
    "plt1.xlabel(\"Epochs:\")\n",
    "plt1.show()\n",
    "# plotting Loss\n",
    "plt1.plot(losss)\n",
    "plt1.ylabel('Loss')\n",
    "plt1.xlabel(\"Epochs:\")\n",
    "plt1.show()"
   ]
  },
  {
   "cell_type": "markdown",
   "id": "3fd35cea",
   "metadata": {},
   "source": [
    "Bước 8: Đưa ra dự đoán"
   ]
  },
  {
   "cell_type": "code",
   "execution_count": 22,
   "id": "ba5c7083",
   "metadata": {
    "vscode": {
     "languageId": "javascript"
    }
   },
   "outputs": [
    {
     "name": "stdout",
     "output_type": "stream",
     "text": [
      "Image is of letter B.\n"
     ]
    },
    {
     "data": {
      "image/png": "[encoded data removed]",
      "text/plain": [
       "<Figure size 640x480 with 1 Axes>"
      ]
     },
     "metadata": {},
     "output_type": "display_data"
    }
   ],
   "source": [
    "def predict(x, w1, w2):\n",
    "    Out = f_forward(x, w1, w2)\n",
    "    maxm = 0\n",
    "    k = 0\n",
    "    for i in range(len(Out[0])):\n",
    "        if(maxm<Out[0][i]):\n",
    "            maxm = Out[0][i]\n",
    "            k = i\n",
    "    if(k == 0):\n",
    "        print(\"Image is of letter A.\")\n",
    "    elif(k == 1):\n",
    "        print(\"Image is of letter B.\")\n",
    "    else:\n",
    "        print(\"Image is of letter C.\")\n",
    "    plt.imshow(x.reshape(5, 6))\n",
    "    plt.show()\n",
    "# Example: Predicting for letter 'B'\n",
    "predict(x[1], w1, w2)"
   ]
  },
  {
   "cell_type": "markdown",
   "id": "f10c146e",
   "metadata": {},
   "source": [
    "Output\n",
    "\n",
    "    Hình ảnh (PNG): Dùng matplotlib.pyplot.imshow để vẽ lưới pixel 5x6 (chữ A ở bước 2, chữ B ở bước 8). Hình ảnh là bitmap đơn giản, thể hiện chữ cái rõ ràng.\n",
    "    \n",
    "    Biểu đồ (PNG): Dùng matplotlib.pyplot.plot để vẽ hai biểu đồ đường (accuracy và loss) trong bước 7, giúp theo dõi quá trình học của mô hình."
   ]
  }
 ],
 "metadata": {
  "kernelspec": {
   "display_name": ".venv",
   "language": "python",
   "name": "python3"
  },
  "language_info": {
   "codemirror_mode": {
    "name": "ipython",
    "version": 3
   },
   "file_extension": ".py",
   "mimetype": "text/x-python",
   "name": "python",
   "nbconvert_exporter": "python",
   "pygments_lexer": "ipython3",
   "version": "3.12.9"
  }
 },
 "nbformat": 4,
 "nbformat_minor": 5
}
